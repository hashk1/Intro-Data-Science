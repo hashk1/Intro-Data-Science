{
 "cells": [
  {
   "cell_type": "markdown",
   "metadata": {},
   "source": [
    "# 第5章"
   ]
  },
  {
   "cell_type": "code",
   "execution_count": 1,
   "metadata": {
    "collapsed": false
   },
   "outputs": [],
   "source": [
    "import pandas as pd\n",
    "import numpy as np\n",
    "import matplotlib.pyplot as plt\n",
    "from scipy.stats import chi2_contingency\n",
    "%matplotlib inline\n",
    "plt.style.use(\"ggplot\")"
   ]
  },
  {
   "cell_type": "markdown",
   "metadata": {},
   "source": [
    "### ab_test_impデータにab_test_goalデータをくっつける"
   ]
  },
  {
   "cell_type": "code",
   "execution_count": 2,
   "metadata": {
    "collapsed": false
   },
   "outputs": [
    {
     "data": {
      "text/html": [
       "<div>\n",
       "<table border=\"1\" class=\"dataframe\">\n",
       "  <thead>\n",
       "    <tr style=\"text-align: right;\">\n",
       "      <th></th>\n",
       "      <th>log_date</th>\n",
       "      <th>app_name</th>\n",
       "      <th>test_name</th>\n",
       "      <th>test_case</th>\n",
       "      <th>user_id</th>\n",
       "      <th>transaction_id</th>\n",
       "    </tr>\n",
       "  </thead>\n",
       "  <tbody>\n",
       "    <tr>\n",
       "      <th>0</th>\n",
       "      <td>2013-10-01</td>\n",
       "      <td>game-01</td>\n",
       "      <td>sales_test</td>\n",
       "      <td>B</td>\n",
       "      <td>36703</td>\n",
       "      <td>25622</td>\n",
       "    </tr>\n",
       "    <tr>\n",
       "      <th>1</th>\n",
       "      <td>2013-10-01</td>\n",
       "      <td>game-01</td>\n",
       "      <td>sales_test</td>\n",
       "      <td>A</td>\n",
       "      <td>44339</td>\n",
       "      <td>25623</td>\n",
       "    </tr>\n",
       "    <tr>\n",
       "      <th>2</th>\n",
       "      <td>2013-10-01</td>\n",
       "      <td>game-01</td>\n",
       "      <td>sales_test</td>\n",
       "      <td>B</td>\n",
       "      <td>32087</td>\n",
       "      <td>25624</td>\n",
       "    </tr>\n",
       "    <tr>\n",
       "      <th>3</th>\n",
       "      <td>2013-10-01</td>\n",
       "      <td>game-01</td>\n",
       "      <td>sales_test</td>\n",
       "      <td>B</td>\n",
       "      <td>10160</td>\n",
       "      <td>25625</td>\n",
       "    </tr>\n",
       "    <tr>\n",
       "      <th>4</th>\n",
       "      <td>2013-10-01</td>\n",
       "      <td>game-01</td>\n",
       "      <td>sales_test</td>\n",
       "      <td>B</td>\n",
       "      <td>46113</td>\n",
       "      <td>25626</td>\n",
       "    </tr>\n",
       "  </tbody>\n",
       "</table>\n",
       "</div>"
      ],
      "text/plain": [
       "     log_date app_name   test_name test_case  user_id  transaction_id\n",
       "0  2013-10-01  game-01  sales_test         B    36703           25622\n",
       "1  2013-10-01  game-01  sales_test         A    44339           25623\n",
       "2  2013-10-01  game-01  sales_test         B    32087           25624\n",
       "3  2013-10-01  game-01  sales_test         B    10160           25625\n",
       "4  2013-10-01  game-01  sales_test         B    46113           25626"
      ]
     },
     "execution_count": 2,
     "metadata": {},
     "output_type": "execute_result"
    }
   ],
   "source": [
    "# データの読みこみ\n",
    "ab_test_imp = pd.read_csv(\"../Data/section5-ab_test_imp.csv\")\n",
    "ab_test_imp.head()"
   ]
  },
  {
   "cell_type": "code",
   "execution_count": 3,
   "metadata": {
    "collapsed": false
   },
   "outputs": [
    {
     "data": {
      "text/html": [
       "<div>\n",
       "<table border=\"1\" class=\"dataframe\">\n",
       "  <thead>\n",
       "    <tr style=\"text-align: right;\">\n",
       "      <th></th>\n",
       "      <th>log_date</th>\n",
       "      <th>app_name</th>\n",
       "      <th>test_name</th>\n",
       "      <th>test_case</th>\n",
       "      <th>user_id</th>\n",
       "      <th>transaction_id</th>\n",
       "    </tr>\n",
       "  </thead>\n",
       "  <tbody>\n",
       "    <tr>\n",
       "      <th>0</th>\n",
       "      <td>2013-10-01</td>\n",
       "      <td>game-01</td>\n",
       "      <td>sales_test</td>\n",
       "      <td>B</td>\n",
       "      <td>15021</td>\n",
       "      <td>25638</td>\n",
       "    </tr>\n",
       "    <tr>\n",
       "      <th>1</th>\n",
       "      <td>2013-10-01</td>\n",
       "      <td>game-01</td>\n",
       "      <td>sales_test</td>\n",
       "      <td>B</td>\n",
       "      <td>351</td>\n",
       "      <td>25704</td>\n",
       "    </tr>\n",
       "    <tr>\n",
       "      <th>2</th>\n",
       "      <td>2013-10-01</td>\n",
       "      <td>game-01</td>\n",
       "      <td>sales_test</td>\n",
       "      <td>B</td>\n",
       "      <td>8276</td>\n",
       "      <td>25739</td>\n",
       "    </tr>\n",
       "    <tr>\n",
       "      <th>3</th>\n",
       "      <td>2013-10-01</td>\n",
       "      <td>game-01</td>\n",
       "      <td>sales_test</td>\n",
       "      <td>B</td>\n",
       "      <td>1230</td>\n",
       "      <td>25742</td>\n",
       "    </tr>\n",
       "    <tr>\n",
       "      <th>4</th>\n",
       "      <td>2013-10-01</td>\n",
       "      <td>game-01</td>\n",
       "      <td>sales_test</td>\n",
       "      <td>B</td>\n",
       "      <td>17471</td>\n",
       "      <td>25743</td>\n",
       "    </tr>\n",
       "  </tbody>\n",
       "</table>\n",
       "</div>"
      ],
      "text/plain": [
       "     log_date app_name   test_name test_case  user_id  transaction_id\n",
       "0  2013-10-01  game-01  sales_test         B    15021           25638\n",
       "1  2013-10-01  game-01  sales_test         B      351           25704\n",
       "2  2013-10-01  game-01  sales_test         B     8276           25739\n",
       "3  2013-10-01  game-01  sales_test         B     1230           25742\n",
       "4  2013-10-01  game-01  sales_test         B    17471           25743"
      ]
     },
     "execution_count": 3,
     "metadata": {},
     "output_type": "execute_result"
    }
   ],
   "source": [
    "ab_test_goal = pd.read_csv(\"../Data/section5-ab_test_goal.csv\")\n",
    "ab_test_goal.head()"
   ]
  },
  {
   "cell_type": "code",
   "execution_count": 4,
   "metadata": {
    "collapsed": false
   },
   "outputs": [
    {
     "data": {
      "text/html": [
       "<div>\n",
       "<table border=\"1\" class=\"dataframe\">\n",
       "  <thead>\n",
       "    <tr style=\"text-align: right;\">\n",
       "      <th></th>\n",
       "      <th>log_date</th>\n",
       "      <th>app_name</th>\n",
       "      <th>test_name</th>\n",
       "      <th>test_case</th>\n",
       "      <th>user_id</th>\n",
       "      <th>transaction_id</th>\n",
       "      <th>log_date_g</th>\n",
       "      <th>app_name_g</th>\n",
       "      <th>test_name_g</th>\n",
       "      <th>test_case_g</th>\n",
       "      <th>user_id_g</th>\n",
       "    </tr>\n",
       "  </thead>\n",
       "  <tbody>\n",
       "    <tr>\n",
       "      <th>0</th>\n",
       "      <td>2013-10-01</td>\n",
       "      <td>game-01</td>\n",
       "      <td>sales_test</td>\n",
       "      <td>B</td>\n",
       "      <td>36703</td>\n",
       "      <td>25622</td>\n",
       "      <td>NaN</td>\n",
       "      <td>NaN</td>\n",
       "      <td>NaN</td>\n",
       "      <td>NaN</td>\n",
       "      <td>NaN</td>\n",
       "    </tr>\n",
       "    <tr>\n",
       "      <th>1</th>\n",
       "      <td>2013-10-01</td>\n",
       "      <td>game-01</td>\n",
       "      <td>sales_test</td>\n",
       "      <td>A</td>\n",
       "      <td>44339</td>\n",
       "      <td>25623</td>\n",
       "      <td>NaN</td>\n",
       "      <td>NaN</td>\n",
       "      <td>NaN</td>\n",
       "      <td>NaN</td>\n",
       "      <td>NaN</td>\n",
       "    </tr>\n",
       "    <tr>\n",
       "      <th>2</th>\n",
       "      <td>2013-10-01</td>\n",
       "      <td>game-01</td>\n",
       "      <td>sales_test</td>\n",
       "      <td>B</td>\n",
       "      <td>32087</td>\n",
       "      <td>25624</td>\n",
       "      <td>NaN</td>\n",
       "      <td>NaN</td>\n",
       "      <td>NaN</td>\n",
       "      <td>NaN</td>\n",
       "      <td>NaN</td>\n",
       "    </tr>\n",
       "    <tr>\n",
       "      <th>3</th>\n",
       "      <td>2013-10-01</td>\n",
       "      <td>game-01</td>\n",
       "      <td>sales_test</td>\n",
       "      <td>B</td>\n",
       "      <td>10160</td>\n",
       "      <td>25625</td>\n",
       "      <td>NaN</td>\n",
       "      <td>NaN</td>\n",
       "      <td>NaN</td>\n",
       "      <td>NaN</td>\n",
       "      <td>NaN</td>\n",
       "    </tr>\n",
       "    <tr>\n",
       "      <th>4</th>\n",
       "      <td>2013-10-01</td>\n",
       "      <td>game-01</td>\n",
       "      <td>sales_test</td>\n",
       "      <td>B</td>\n",
       "      <td>46113</td>\n",
       "      <td>25626</td>\n",
       "      <td>NaN</td>\n",
       "      <td>NaN</td>\n",
       "      <td>NaN</td>\n",
       "      <td>NaN</td>\n",
       "      <td>NaN</td>\n",
       "    </tr>\n",
       "  </tbody>\n",
       "</table>\n",
       "</div>"
      ],
      "text/plain": [
       "     log_date app_name   test_name test_case  user_id  transaction_id  \\\n",
       "0  2013-10-01  game-01  sales_test         B    36703           25622   \n",
       "1  2013-10-01  game-01  sales_test         A    44339           25623   \n",
       "2  2013-10-01  game-01  sales_test         B    32087           25624   \n",
       "3  2013-10-01  game-01  sales_test         B    10160           25625   \n",
       "4  2013-10-01  game-01  sales_test         B    46113           25626   \n",
       "\n",
       "  log_date_g app_name_g test_name_g test_case_g  user_id_g  \n",
       "0        NaN        NaN         NaN         NaN        NaN  \n",
       "1        NaN        NaN         NaN         NaN        NaN  \n",
       "2        NaN        NaN         NaN         NaN        NaN  \n",
       "3        NaN        NaN         NaN         NaN        NaN  \n",
       "4        NaN        NaN         NaN         NaN        NaN  "
      ]
     },
     "execution_count": 4,
     "metadata": {},
     "output_type": "execute_result"
    }
   ],
   "source": [
    "# ab_test_impにab_test_goalをくっつける\n",
    "ab_test_imp = pd.merge(ab_test_imp, ab_test_goal, on = \"transaction_id\", how = \"left\", suffixes = [\"\", \"_g\"])\n",
    "ab_test_imp.head()"
   ]
  },
  {
   "cell_type": "markdown",
   "metadata": {},
   "source": [
    "### クリックしたかどうかのフラグを作る"
   ]
  },
  {
   "cell_type": "code",
   "execution_count": 5,
   "metadata": {
    "collapsed": false
   },
   "outputs": [
    {
     "data": {
      "text/html": [
       "<div>\n",
       "<table border=\"1\" class=\"dataframe\">\n",
       "  <thead>\n",
       "    <tr style=\"text-align: right;\">\n",
       "      <th></th>\n",
       "      <th>log_date</th>\n",
       "      <th>app_name</th>\n",
       "      <th>test_name</th>\n",
       "      <th>test_case</th>\n",
       "      <th>user_id</th>\n",
       "      <th>transaction_id</th>\n",
       "      <th>log_date_g</th>\n",
       "      <th>app_name_g</th>\n",
       "      <th>test_name_g</th>\n",
       "      <th>test_case_g</th>\n",
       "      <th>user_id_g</th>\n",
       "      <th>is_goal</th>\n",
       "    </tr>\n",
       "  </thead>\n",
       "  <tbody>\n",
       "    <tr>\n",
       "      <th>0</th>\n",
       "      <td>2013-10-01</td>\n",
       "      <td>game-01</td>\n",
       "      <td>sales_test</td>\n",
       "      <td>B</td>\n",
       "      <td>36703</td>\n",
       "      <td>25622</td>\n",
       "      <td>NaN</td>\n",
       "      <td>NaN</td>\n",
       "      <td>NaN</td>\n",
       "      <td>NaN</td>\n",
       "      <td>NaN</td>\n",
       "      <td>0</td>\n",
       "    </tr>\n",
       "    <tr>\n",
       "      <th>1</th>\n",
       "      <td>2013-10-01</td>\n",
       "      <td>game-01</td>\n",
       "      <td>sales_test</td>\n",
       "      <td>A</td>\n",
       "      <td>44339</td>\n",
       "      <td>25623</td>\n",
       "      <td>NaN</td>\n",
       "      <td>NaN</td>\n",
       "      <td>NaN</td>\n",
       "      <td>NaN</td>\n",
       "      <td>NaN</td>\n",
       "      <td>0</td>\n",
       "    </tr>\n",
       "    <tr>\n",
       "      <th>2</th>\n",
       "      <td>2013-10-01</td>\n",
       "      <td>game-01</td>\n",
       "      <td>sales_test</td>\n",
       "      <td>B</td>\n",
       "      <td>32087</td>\n",
       "      <td>25624</td>\n",
       "      <td>NaN</td>\n",
       "      <td>NaN</td>\n",
       "      <td>NaN</td>\n",
       "      <td>NaN</td>\n",
       "      <td>NaN</td>\n",
       "      <td>0</td>\n",
       "    </tr>\n",
       "    <tr>\n",
       "      <th>3</th>\n",
       "      <td>2013-10-01</td>\n",
       "      <td>game-01</td>\n",
       "      <td>sales_test</td>\n",
       "      <td>B</td>\n",
       "      <td>10160</td>\n",
       "      <td>25625</td>\n",
       "      <td>NaN</td>\n",
       "      <td>NaN</td>\n",
       "      <td>NaN</td>\n",
       "      <td>NaN</td>\n",
       "      <td>NaN</td>\n",
       "      <td>0</td>\n",
       "    </tr>\n",
       "    <tr>\n",
       "      <th>4</th>\n",
       "      <td>2013-10-01</td>\n",
       "      <td>game-01</td>\n",
       "      <td>sales_test</td>\n",
       "      <td>B</td>\n",
       "      <td>46113</td>\n",
       "      <td>25626</td>\n",
       "      <td>NaN</td>\n",
       "      <td>NaN</td>\n",
       "      <td>NaN</td>\n",
       "      <td>NaN</td>\n",
       "      <td>NaN</td>\n",
       "      <td>0</td>\n",
       "    </tr>\n",
       "  </tbody>\n",
       "</table>\n",
       "</div>"
      ],
      "text/plain": [
       "     log_date app_name   test_name test_case  user_id  transaction_id  \\\n",
       "0  2013-10-01  game-01  sales_test         B    36703           25622   \n",
       "1  2013-10-01  game-01  sales_test         A    44339           25623   \n",
       "2  2013-10-01  game-01  sales_test         B    32087           25624   \n",
       "3  2013-10-01  game-01  sales_test         B    10160           25625   \n",
       "4  2013-10-01  game-01  sales_test         B    46113           25626   \n",
       "\n",
       "  log_date_g app_name_g test_name_g test_case_g  user_id_g  is_goal  \n",
       "0        NaN        NaN         NaN         NaN        NaN        0  \n",
       "1        NaN        NaN         NaN         NaN        NaN        0  \n",
       "2        NaN        NaN         NaN         NaN        NaN        0  \n",
       "3        NaN        NaN         NaN         NaN        NaN        0  \n",
       "4        NaN        NaN         NaN         NaN        NaN        0  "
      ]
     },
     "execution_count": 5,
     "metadata": {},
     "output_type": "execute_result"
    }
   ],
   "source": [
    "# クリックフラグの追加\n",
    "ab_test_imp[\"is_goal\"] = np.where(ab_test_imp[\"user_id_g\"].isnull(), 0, 1)\n",
    "ab_test_imp.head()"
   ]
  },
  {
   "cell_type": "markdown",
   "metadata": {},
   "source": [
    "### クリック率の集計"
   ]
  },
  {
   "cell_type": "code",
   "execution_count": 6,
   "metadata": {
    "collapsed": false
   },
   "outputs": [
    {
     "data": {
      "text/html": [
       "<div>\n",
       "<table border=\"1\" class=\"dataframe\">\n",
       "  <thead>\n",
       "    <tr style=\"text-align: right;\">\n",
       "      <th></th>\n",
       "      <th>cvr</th>\n",
       "    </tr>\n",
       "    <tr>\n",
       "      <th>test_case</th>\n",
       "      <th></th>\n",
       "    </tr>\n",
       "  </thead>\n",
       "  <tbody>\n",
       "    <tr>\n",
       "      <th>A</th>\n",
       "      <td>0.080256</td>\n",
       "    </tr>\n",
       "    <tr>\n",
       "      <th>B</th>\n",
       "      <td>0.115460</td>\n",
       "    </tr>\n",
       "  </tbody>\n",
       "</table>\n",
       "</div>"
      ],
      "text/plain": [
       "                cvr\n",
       "test_case          \n",
       "A          0.080256\n",
       "B          0.115460"
      ]
     },
     "execution_count": 6,
     "metadata": {},
     "output_type": "execute_result"
    }
   ],
   "source": [
    "# クリック率の計算\n",
    "cvr = ab_test_imp.groupby(\"test_case\")[\"is_goal\"].sum() / ab_test_imp.groupby(\"test_case\")[\"user_id\"].count() \n",
    "pd.DataFrame(cvr, columns = [\"cvr\"])"
   ]
  },
  {
   "cell_type": "markdown",
   "metadata": {},
   "source": [
    "### カイ2乗検定の実行"
   ]
  },
  {
   "cell_type": "code",
   "execution_count": 7,
   "metadata": {
    "collapsed": false
   },
   "outputs": [
    {
     "name": "stdout",
     "output_type": "stream",
     "text": [
      "カイ2乗: 308.375053\n",
      "自由度: 1\n",
      "p値: 0.000000\n"
     ]
    }
   ],
   "source": [
    "# カイ2乗検定の実行\n",
    "crosstab = pd.pivot_table(ab_test_imp, index = \"test_case\", columns = \"is_goal\", values = \"user_id\", aggfunc = len)\n",
    "chi2, p, dof, _ = chi2_contingency(crosstab)\n",
    "print(\"カイ2乗: %f\" % chi2)\n",
    "print(\"自由度: %d\" % dof)\n",
    "print(\"p値: %f\" % p)"
   ]
  },
  {
   "cell_type": "markdown",
   "metadata": {},
   "source": [
    "### テストケースごとのクリック率の算出"
   ]
  },
  {
   "cell_type": "code",
   "execution_count": 8,
   "metadata": {
    "collapsed": false
   },
   "outputs": [
    {
     "data": {
      "text/html": [
       "<div>\n",
       "<table border=\"1\" class=\"dataframe\">\n",
       "  <thead>\n",
       "    <tr style=\"text-align: right;\">\n",
       "      <th></th>\n",
       "      <th>log_date</th>\n",
       "      <th>test_case</th>\n",
       "      <th>imp</th>\n",
       "      <th>cv</th>\n",
       "      <th>cvr</th>\n",
       "    </tr>\n",
       "  </thead>\n",
       "  <tbody>\n",
       "    <tr>\n",
       "      <th>0</th>\n",
       "      <td>2013-10-01</td>\n",
       "      <td>A</td>\n",
       "      <td>1358</td>\n",
       "      <td>98</td>\n",
       "      <td>0.072165</td>\n",
       "    </tr>\n",
       "    <tr>\n",
       "      <th>1</th>\n",
       "      <td>2013-10-01</td>\n",
       "      <td>B</td>\n",
       "      <td>1391</td>\n",
       "      <td>176</td>\n",
       "      <td>0.126528</td>\n",
       "    </tr>\n",
       "    <tr>\n",
       "      <th>2</th>\n",
       "      <td>2013-10-02</td>\n",
       "      <td>A</td>\n",
       "      <td>1370</td>\n",
       "      <td>88</td>\n",
       "      <td>0.064234</td>\n",
       "    </tr>\n",
       "    <tr>\n",
       "      <th>3</th>\n",
       "      <td>2013-10-02</td>\n",
       "      <td>B</td>\n",
       "      <td>1333</td>\n",
       "      <td>212</td>\n",
       "      <td>0.159040</td>\n",
       "    </tr>\n",
       "    <tr>\n",
       "      <th>4</th>\n",
       "      <td>2013-10-03</td>\n",
       "      <td>A</td>\n",
       "      <td>1213</td>\n",
       "      <td>170</td>\n",
       "      <td>0.140148</td>\n",
       "    </tr>\n",
       "  </tbody>\n",
       "</table>\n",
       "</div>"
      ],
      "text/plain": [
       "     log_date test_case   imp   cv       cvr\n",
       "0  2013-10-01         A  1358   98  0.072165\n",
       "1  2013-10-01         B  1391  176  0.126528\n",
       "2  2013-10-02         A  1370   88  0.064234\n",
       "3  2013-10-02         B  1333  212  0.159040\n",
       "4  2013-10-03         A  1213  170  0.140148"
      ]
     },
     "execution_count": 8,
     "metadata": {},
     "output_type": "execute_result"
    }
   ],
   "source": [
    "# 日付ごとテストケースごとにクリック率を算出\n",
    "ab_test_imp_summary = ab_test_imp.groupby([\"log_date\", \"test_case\"])[\"is_goal\"].agg({\"imp\": \"count\", \"cv\": \"sum\"}).reset_index()\n",
    "ab_test_imp_summary[\"cvr\"] = ab_test_imp_summary[\"cv\"]  / ab_test_imp_summary[\"imp\"] \n",
    "ab_test_imp_summary.head()"
   ]
  },
  {
   "cell_type": "code",
   "execution_count": 9,
   "metadata": {
    "collapsed": false
   },
   "outputs": [
    {
     "data": {
      "text/html": [
       "<div>\n",
       "<table border=\"1\" class=\"dataframe\">\n",
       "  <thead>\n",
       "    <tr style=\"text-align: right;\">\n",
       "      <th></th>\n",
       "      <th>log_date</th>\n",
       "      <th>test_case</th>\n",
       "      <th>imp</th>\n",
       "      <th>cv</th>\n",
       "      <th>cvr</th>\n",
       "      <th>cvr_avg</th>\n",
       "    </tr>\n",
       "  </thead>\n",
       "  <tbody>\n",
       "    <tr>\n",
       "      <th>0</th>\n",
       "      <td>2013-10-01</td>\n",
       "      <td>A</td>\n",
       "      <td>1358</td>\n",
       "      <td>98</td>\n",
       "      <td>0.072165</td>\n",
       "      <td>0.080256</td>\n",
       "    </tr>\n",
       "    <tr>\n",
       "      <th>1</th>\n",
       "      <td>2013-10-02</td>\n",
       "      <td>A</td>\n",
       "      <td>1370</td>\n",
       "      <td>88</td>\n",
       "      <td>0.064234</td>\n",
       "      <td>0.080256</td>\n",
       "    </tr>\n",
       "    <tr>\n",
       "      <th>2</th>\n",
       "      <td>2013-10-03</td>\n",
       "      <td>A</td>\n",
       "      <td>1213</td>\n",
       "      <td>170</td>\n",
       "      <td>0.140148</td>\n",
       "      <td>0.080256</td>\n",
       "    </tr>\n",
       "    <tr>\n",
       "      <th>3</th>\n",
       "      <td>2013-10-04</td>\n",
       "      <td>A</td>\n",
       "      <td>1521</td>\n",
       "      <td>89</td>\n",
       "      <td>0.058514</td>\n",
       "      <td>0.080256</td>\n",
       "    </tr>\n",
       "    <tr>\n",
       "      <th>4</th>\n",
       "      <td>2013-10-05</td>\n",
       "      <td>A</td>\n",
       "      <td>1587</td>\n",
       "      <td>56</td>\n",
       "      <td>0.035287</td>\n",
       "      <td>0.080256</td>\n",
       "    </tr>\n",
       "  </tbody>\n",
       "</table>\n",
       "</div>"
      ],
      "text/plain": [
       "     log_date test_case   imp   cv       cvr   cvr_avg\n",
       "0  2013-10-01         A  1358   98  0.072165  0.080256\n",
       "1  2013-10-02         A  1370   88  0.064234  0.080256\n",
       "2  2013-10-03         A  1213  170  0.140148  0.080256\n",
       "3  2013-10-04         A  1521   89  0.058514  0.080256\n",
       "4  2013-10-05         A  1587   56  0.035287  0.080256"
      ]
     },
     "execution_count": 9,
     "metadata": {},
     "output_type": "execute_result"
    }
   ],
   "source": [
    "# テストケースごとのクリック率を算出\n",
    "tmp = ab_test_imp_summary.drop(\"cvr\", axis = 1).groupby(\"test_case\").sum()\n",
    "tmp[\"cvr_avg\"] = tmp[\"cv\"] / tmp[\"imp\"]\n",
    "tmp = tmp[[\"cvr_avg\"]].reset_index()\n",
    "pd.merge(ab_test_imp_summary, tmp).head()"
   ]
  },
  {
   "cell_type": "markdown",
   "metadata": {},
   "source": [
    "### テストケースごとのクリック率の時系列グラフ"
   ]
  },
  {
   "cell_type": "code",
   "execution_count": 10,
   "metadata": {
    "collapsed": false
   },
   "outputs": [
    {
     "data": {
      "text/plain": [
       "<matplotlib.axes._subplots.AxesSubplot at 0x10f61d908>"
      ]
     },
     "execution_count": 10,
     "metadata": {},
     "output_type": "execute_result"
    },
    {
     "data": {
      "image/png": "[encoded data removed]",
      "text/plain": [
       "<matplotlib.figure.Figure at 0x114bb24e0>"
      ]
     },
     "metadata": {},
     "output_type": "display_data"
    }
   ],
   "source": [
    "ab_test_imp_summary[\"log_date\"] = pd.to_datetime(ab_test_imp_summary[\"log_date\"])\n",
    "ab_test_imp_summary[[\"log_date\", \"test_case\", \"cvr\"]].groupby([\"log_date\", \"test_case\"])[\"cvr\"].max().unstack().plot()"
   ]
  },
  {
   "cell_type": "code",
   "execution_count": null,
   "metadata": {
    "collapsed": true
   },
   "outputs": [],
   "source": []
  }
 ],
 "metadata": {
  "kernelspec": {
   "display_name": "Python 3",
   "language": "python",
   "name": "python3"
  },
  "language_info": {
   "codemirror_mode": {
    "name": "ipython",
    "version": 3
   },
   "file_extension": ".py",
   "mimetype": "text/x-python",
   "name": "python",
   "nbconvert_exporter": "python",
   "pygments_lexer": "ipython3",
   "version": "3.6.5"
  }
 },
 "nbformat": 4,
 "nbformat_minor": 2
}
