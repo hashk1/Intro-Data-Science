{
 "cells": [
  {
   "cell_type": "markdown",
   "metadata": {
    "deletable": true,
    "editable": true
   },
   "source": [
    "# 第8章"
   ]
  },
  {
   "cell_type": "code",
   "execution_count": 1,
   "metadata": {
    "collapsed": true,
    "deletable": true,
    "editable": true
   },
   "outputs": [],
   "source": [
    "import pandas as pd\n",
    "import numpy as np\n",
    "import matplotlib.pyplot as plt\n",
    "from datetime import datetime, timedelta\n",
    "from sklearn.cluster import KMeans\n",
    "%matplotlib inline\n",
    "plt.style.use(\"ggplot\")"
   ]
  },
  {
   "cell_type": "markdown",
   "metadata": {
    "deletable": true,
    "editable": true
   },
   "source": [
    "### データを読みこむための関数の作成"
   ]
  },
  {
   "cell_type": "code",
   "execution_count": 2,
   "metadata": {
    "collapsed": true,
    "deletable": true,
    "editable": true
   },
   "outputs": [],
   "source": [
    "def readTsvDates(base_dir, app_name, date_from, date_to):\n",
    "    date_from = datetime.strptime(date_from, \"%Y-%m-%d\")\n",
    "    date_to = datetime.strptime(date_to, \"%Y-%m-%d\")\n",
    "    dates = [str(date_from + timedelta(d)).split()[0] for d in range((date_to - date_from).days + 1)]\n",
    "    x = pd.DataFrame()\n",
    "    for day in dates:\n",
    "        tmp = pd.read_csv(\"%s/%s/%s/data.tsv\" % (base_dir, app_name, day), sep = \"\\t\")\n",
    "        x = pd.concat([x, tmp], axis = 0)\n",
    "    return x"
   ]
  },
  {
   "cell_type": "code",
   "execution_count": 3,
   "metadata": {
    "collapsed": false,
    "deletable": true,
    "editable": true
   },
   "outputs": [],
   "source": [
    "# DAUを読みこむ関数\n",
    "def readDau(app_name, date_from, date_to = None):\n",
    "    if date_to is None:\n",
    "        date_to = date_from\n",
    "    data = readTsvDates(\"../Data/sample-data/section8/daily/dau\", app_name, date_from, date_to)\n",
    "    return data"
   ]
  },
  {
   "cell_type": "code",
   "execution_count": 4,
   "metadata": {
    "collapsed": true,
    "deletable": true,
    "editable": true
   },
   "outputs": [],
   "source": [
    "# DPUを読みこむ関数\n",
    "def readDpu(app_name, date_from, date_to = None):\n",
    "    if date_to is None:\n",
    "        date_to = date_from\n",
    "    data = readTsvDates(\"../Data/sample-data/section8/daily/dpu\", app_name, date_from, date_to)\n",
    "    return data"
   ]
  },
  {
   "cell_type": "code",
   "execution_count": 5,
   "metadata": {
    "collapsed": true,
    "deletable": true,
    "editable": true
   },
   "outputs": [],
   "source": [
    "# 行動データを読みこむ関数\n",
    "def readActionDaily(app_name, date_from, date_to = None):\n",
    "    if date_to is None:\n",
    "        date_to = date_from\n",
    "    data = readTsvDates(\"../Data/sample-data/section8/daily/action\", app_name, date_from, date_to)\n",
    "    return data"
   ]
  },
  {
   "cell_type": "markdown",
   "metadata": {
    "deletable": true,
    "editable": true
   },
   "source": [
    "### データの読みこみ"
   ]
  },
  {
   "cell_type": "code",
   "execution_count": 6,
   "metadata": {
    "collapsed": false,
    "deletable": true,
    "editable": true
   },
   "outputs": [
    {
     "data": {
      "text/html": [
       "<div>\n",
       "<table border=\"1\" class=\"dataframe\">\n",
       "  <thead>\n",
       "    <tr style=\"text-align: right;\">\n",
       "      <th></th>\n",
       "      <th>log_date</th>\n",
       "      <th>app_name</th>\n",
       "      <th>user_id</th>\n",
       "    </tr>\n",
       "  </thead>\n",
       "  <tbody>\n",
       "    <tr>\n",
       "      <th>0</th>\n",
       "      <td>2013-05-01</td>\n",
       "      <td>game-01</td>\n",
       "      <td>608801</td>\n",
       "    </tr>\n",
       "    <tr>\n",
       "      <th>1</th>\n",
       "      <td>2013-05-01</td>\n",
       "      <td>game-01</td>\n",
       "      <td>712453</td>\n",
       "    </tr>\n",
       "    <tr>\n",
       "      <th>2</th>\n",
       "      <td>2013-05-01</td>\n",
       "      <td>game-01</td>\n",
       "      <td>776853</td>\n",
       "    </tr>\n",
       "    <tr>\n",
       "      <th>3</th>\n",
       "      <td>2013-05-01</td>\n",
       "      <td>game-01</td>\n",
       "      <td>823486</td>\n",
       "    </tr>\n",
       "    <tr>\n",
       "      <th>4</th>\n",
       "      <td>2013-05-01</td>\n",
       "      <td>game-01</td>\n",
       "      <td>113600</td>\n",
       "    </tr>\n",
       "  </tbody>\n",
       "</table>\n",
       "</div>"
      ],
      "text/plain": [
       "     log_date app_name  user_id\n",
       "0  2013-05-01  game-01   608801\n",
       "1  2013-05-01  game-01   712453\n",
       "2  2013-05-01  game-01   776853\n",
       "3  2013-05-01  game-01   823486\n",
       "4  2013-05-01  game-01   113600"
      ]
     },
     "execution_count": 6,
     "metadata": {},
     "output_type": "execute_result"
    }
   ],
   "source": [
    "# DAU\n",
    "dau = readDau(\"game-01\", \"2013-05-01\", \"2013-10-31\")\n",
    "dau.head()"
   ]
  },
  {
   "cell_type": "code",
   "execution_count": 7,
   "metadata": {
    "collapsed": false,
    "deletable": true,
    "editable": true
   },
   "outputs": [
    {
     "data": {
      "text/html": [
       "<div>\n",
       "<table border=\"1\" class=\"dataframe\">\n",
       "  <thead>\n",
       "    <tr style=\"text-align: right;\">\n",
       "      <th></th>\n",
       "      <th>log_date</th>\n",
       "      <th>app_name</th>\n",
       "      <th>user_id</th>\n",
       "      <th>payment</th>\n",
       "    </tr>\n",
       "  </thead>\n",
       "  <tbody>\n",
       "    <tr>\n",
       "      <th>0</th>\n",
       "      <td>2013-05-01</td>\n",
       "      <td>game-01</td>\n",
       "      <td>804005</td>\n",
       "      <td>571</td>\n",
       "    </tr>\n",
       "    <tr>\n",
       "      <th>1</th>\n",
       "      <td>2013-05-01</td>\n",
       "      <td>game-01</td>\n",
       "      <td>793537</td>\n",
       "      <td>81</td>\n",
       "    </tr>\n",
       "    <tr>\n",
       "      <th>2</th>\n",
       "      <td>2013-05-01</td>\n",
       "      <td>game-01</td>\n",
       "      <td>317717</td>\n",
       "      <td>81</td>\n",
       "    </tr>\n",
       "    <tr>\n",
       "      <th>3</th>\n",
       "      <td>2013-05-01</td>\n",
       "      <td>game-01</td>\n",
       "      <td>317717</td>\n",
       "      <td>81</td>\n",
       "    </tr>\n",
       "    <tr>\n",
       "      <th>4</th>\n",
       "      <td>2013-05-01</td>\n",
       "      <td>game-01</td>\n",
       "      <td>426525</td>\n",
       "      <td>324</td>\n",
       "    </tr>\n",
       "  </tbody>\n",
       "</table>\n",
       "</div>"
      ],
      "text/plain": [
       "     log_date app_name  user_id  payment\n",
       "0  2013-05-01  game-01   804005      571\n",
       "1  2013-05-01  game-01   793537       81\n",
       "2  2013-05-01  game-01   317717       81\n",
       "3  2013-05-01  game-01   317717       81\n",
       "4  2013-05-01  game-01   426525      324"
      ]
     },
     "execution_count": 7,
     "metadata": {},
     "output_type": "execute_result"
    }
   ],
   "source": [
    "# DPU\n",
    "dpu = readDpu(\"game-01\", \"2013-05-01\", \"2013-10-31\")\n",
    "dpu.head()"
   ]
  },
  {
   "cell_type": "code",
   "execution_count": 8,
   "metadata": {
    "collapsed": false,
    "deletable": true,
    "editable": true
   },
   "outputs": [
    {
     "data": {
      "text/html": [
       "<div>\n",
       "<table border=\"1\" class=\"dataframe\">\n",
       "  <thead>\n",
       "    <tr style=\"text-align: right;\">\n",
       "      <th></th>\n",
       "      <th>log_date</th>\n",
       "      <th>app_name</th>\n",
       "      <th>user_id</th>\n",
       "      <th>A1</th>\n",
       "      <th>A2</th>\n",
       "      <th>A3</th>\n",
       "      <th>A4</th>\n",
       "      <th>A5</th>\n",
       "      <th>A6</th>\n",
       "      <th>A7</th>\n",
       "      <th>...</th>\n",
       "      <th>A45</th>\n",
       "      <th>A46</th>\n",
       "      <th>A47</th>\n",
       "      <th>A48</th>\n",
       "      <th>A49</th>\n",
       "      <th>A50</th>\n",
       "      <th>A51</th>\n",
       "      <th>A52</th>\n",
       "      <th>A53</th>\n",
       "      <th>A54</th>\n",
       "    </tr>\n",
       "  </thead>\n",
       "  <tbody>\n",
       "    <tr>\n",
       "      <th>0</th>\n",
       "      <td>2013-10-31</td>\n",
       "      <td>game-01</td>\n",
       "      <td>654133</td>\n",
       "      <td>0</td>\n",
       "      <td>0</td>\n",
       "      <td>0</td>\n",
       "      <td>0</td>\n",
       "      <td>0</td>\n",
       "      <td>0</td>\n",
       "      <td>0</td>\n",
       "      <td>...</td>\n",
       "      <td>0</td>\n",
       "      <td>0</td>\n",
       "      <td>380</td>\n",
       "      <td>25655</td>\n",
       "      <td>0</td>\n",
       "      <td>0</td>\n",
       "      <td>0</td>\n",
       "      <td>0</td>\n",
       "      <td>0.0</td>\n",
       "      <td>46</td>\n",
       "    </tr>\n",
       "    <tr>\n",
       "      <th>1</th>\n",
       "      <td>2013-10-31</td>\n",
       "      <td>game-01</td>\n",
       "      <td>425530</td>\n",
       "      <td>0</td>\n",
       "      <td>0</td>\n",
       "      <td>0</td>\n",
       "      <td>0</td>\n",
       "      <td>10</td>\n",
       "      <td>1</td>\n",
       "      <td>233</td>\n",
       "      <td>...</td>\n",
       "      <td>19</td>\n",
       "      <td>20</td>\n",
       "      <td>180543</td>\n",
       "      <td>347</td>\n",
       "      <td>36</td>\n",
       "      <td>22</td>\n",
       "      <td>4</td>\n",
       "      <td>0</td>\n",
       "      <td>0.0</td>\n",
       "      <td>71</td>\n",
       "    </tr>\n",
       "    <tr>\n",
       "      <th>2</th>\n",
       "      <td>2013-10-31</td>\n",
       "      <td>game-01</td>\n",
       "      <td>709596</td>\n",
       "      <td>0</td>\n",
       "      <td>0</td>\n",
       "      <td>0</td>\n",
       "      <td>0</td>\n",
       "      <td>0</td>\n",
       "      <td>0</td>\n",
       "      <td>0</td>\n",
       "      <td>...</td>\n",
       "      <td>0</td>\n",
       "      <td>0</td>\n",
       "      <td>416</td>\n",
       "      <td>24817</td>\n",
       "      <td>0</td>\n",
       "      <td>0</td>\n",
       "      <td>0</td>\n",
       "      <td>0</td>\n",
       "      <td>0.0</td>\n",
       "      <td>2</td>\n",
       "    </tr>\n",
       "    <tr>\n",
       "      <th>3</th>\n",
       "      <td>2013-10-31</td>\n",
       "      <td>game-01</td>\n",
       "      <td>525047</td>\n",
       "      <td>0</td>\n",
       "      <td>2</td>\n",
       "      <td>0</td>\n",
       "      <td>0</td>\n",
       "      <td>9</td>\n",
       "      <td>0</td>\n",
       "      <td>0</td>\n",
       "      <td>...</td>\n",
       "      <td>22</td>\n",
       "      <td>22</td>\n",
       "      <td>35200</td>\n",
       "      <td>6412</td>\n",
       "      <td>21</td>\n",
       "      <td>0</td>\n",
       "      <td>0</td>\n",
       "      <td>0</td>\n",
       "      <td>0.0</td>\n",
       "      <td>109</td>\n",
       "    </tr>\n",
       "    <tr>\n",
       "      <th>4</th>\n",
       "      <td>2013-10-31</td>\n",
       "      <td>game-01</td>\n",
       "      <td>796908</td>\n",
       "      <td>0</td>\n",
       "      <td>0</td>\n",
       "      <td>0</td>\n",
       "      <td>0</td>\n",
       "      <td>0</td>\n",
       "      <td>0</td>\n",
       "      <td>0</td>\n",
       "      <td>...</td>\n",
       "      <td>29</td>\n",
       "      <td>29</td>\n",
       "      <td>388</td>\n",
       "      <td>25444</td>\n",
       "      <td>1</td>\n",
       "      <td>0</td>\n",
       "      <td>0</td>\n",
       "      <td>0</td>\n",
       "      <td>0.0</td>\n",
       "      <td>64</td>\n",
       "    </tr>\n",
       "  </tbody>\n",
       "</table>\n",
       "<p>5 rows × 57 columns</p>\n",
       "</div>"
      ],
      "text/plain": [
       "     log_date app_name  user_id  A1  A2  A3  A4  A5  A6   A7 ...   A45  A46  \\\n",
       "0  2013-10-31  game-01   654133   0   0   0   0   0   0    0 ...     0    0   \n",
       "1  2013-10-31  game-01   425530   0   0   0   0  10   1  233 ...    19   20   \n",
       "2  2013-10-31  game-01   709596   0   0   0   0   0   0    0 ...     0    0   \n",
       "3  2013-10-31  game-01   525047   0   2   0   0   9   0    0 ...    22   22   \n",
       "4  2013-10-31  game-01   796908   0   0   0   0   0   0    0 ...    29   29   \n",
       "\n",
       "      A47    A48  A49  A50  A51  A52  A53  A54  \n",
       "0     380  25655    0    0    0    0  0.0   46  \n",
       "1  180543    347   36   22    4    0  0.0   71  \n",
       "2     416  24817    0    0    0    0  0.0    2  \n",
       "3   35200   6412   21    0    0    0  0.0  109  \n",
       "4     388  25444    1    0    0    0  0.0   64  \n",
       "\n",
       "[5 rows x 57 columns]"
      ]
     },
     "execution_count": 8,
     "metadata": {},
     "output_type": "execute_result"
    }
   ],
   "source": [
    "# Action\n",
    "user_action = readActionDaily(\"game-01\", \"2013-10-31\", \"2013-10-31\")\n",
    "user_action.head()"
   ]
  },
  {
   "cell_type": "markdown",
   "metadata": {
    "deletable": true,
    "editable": true
   },
   "source": [
    "### DAUにDPUをくっつける"
   ]
  },
  {
   "cell_type": "code",
   "execution_count": 9,
   "metadata": {
    "collapsed": false,
    "deletable": true,
    "editable": true
   },
   "outputs": [
    {
     "data": {
      "text/html": [
       "<div>\n",
       "<table border=\"1\" class=\"dataframe\">\n",
       "  <thead>\n",
       "    <tr style=\"text-align: right;\">\n",
       "      <th></th>\n",
       "      <th>log_date</th>\n",
       "      <th>app_name</th>\n",
       "      <th>user_id</th>\n",
       "      <th>payment</th>\n",
       "      <th>is_payment</th>\n",
       "    </tr>\n",
       "  </thead>\n",
       "  <tbody>\n",
       "    <tr>\n",
       "      <th>0</th>\n",
       "      <td>2013-05-01</td>\n",
       "      <td>game-01</td>\n",
       "      <td>608801</td>\n",
       "      <td>NaN</td>\n",
       "      <td>0</td>\n",
       "    </tr>\n",
       "    <tr>\n",
       "      <th>1</th>\n",
       "      <td>2013-05-01</td>\n",
       "      <td>game-01</td>\n",
       "      <td>712453</td>\n",
       "      <td>NaN</td>\n",
       "      <td>0</td>\n",
       "    </tr>\n",
       "    <tr>\n",
       "      <th>2</th>\n",
       "      <td>2013-05-01</td>\n",
       "      <td>game-01</td>\n",
       "      <td>776853</td>\n",
       "      <td>NaN</td>\n",
       "      <td>0</td>\n",
       "    </tr>\n",
       "    <tr>\n",
       "      <th>3</th>\n",
       "      <td>2013-05-01</td>\n",
       "      <td>game-01</td>\n",
       "      <td>823486</td>\n",
       "      <td>NaN</td>\n",
       "      <td>0</td>\n",
       "    </tr>\n",
       "    <tr>\n",
       "      <th>4</th>\n",
       "      <td>2013-05-01</td>\n",
       "      <td>game-01</td>\n",
       "      <td>113600</td>\n",
       "      <td>NaN</td>\n",
       "      <td>0</td>\n",
       "    </tr>\n",
       "  </tbody>\n",
       "</table>\n",
       "</div>"
      ],
      "text/plain": [
       "     log_date app_name  user_id  payment  is_payment\n",
       "0  2013-05-01  game-01   608801      NaN           0\n",
       "1  2013-05-01  game-01   712453      NaN           0\n",
       "2  2013-05-01  game-01   776853      NaN           0\n",
       "3  2013-05-01  game-01   823486      NaN           0\n",
       "4  2013-05-01  game-01   113600      NaN           0"
      ]
     },
     "execution_count": 9,
     "metadata": {},
     "output_type": "execute_result"
    }
   ],
   "source": [
    "# 課金データのマージ\n",
    "dau2 = pd.merge(dau, dpu[[\"log_date\", \"user_id\", \"payment\"]], on = [\"log_date\", \"user_id\"], how = \"left\")\n",
    "\n",
    "# 課金フラグを付ける\n",
    "dau2[\"is_payment\"] = np.where(dau2[\"payment\"].isnull(), 0, 1)\n",
    "dau2.head()"
   ]
  },
  {
   "cell_type": "code",
   "execution_count": 10,
   "metadata": {
    "collapsed": false,
    "deletable": true,
    "editable": true
   },
   "outputs": [
    {
     "data": {
      "text/html": [
       "<div>\n",
       "<table border=\"1\" class=\"dataframe\">\n",
       "  <thead>\n",
       "    <tr style=\"text-align: right;\">\n",
       "      <th></th>\n",
       "      <th>log_date</th>\n",
       "      <th>app_name</th>\n",
       "      <th>user_id</th>\n",
       "      <th>payment</th>\n",
       "      <th>is_payment</th>\n",
       "    </tr>\n",
       "  </thead>\n",
       "  <tbody>\n",
       "    <tr>\n",
       "      <th>0</th>\n",
       "      <td>2013-05-01</td>\n",
       "      <td>game-01</td>\n",
       "      <td>608801</td>\n",
       "      <td>0.0</td>\n",
       "      <td>0</td>\n",
       "    </tr>\n",
       "    <tr>\n",
       "      <th>1</th>\n",
       "      <td>2013-05-01</td>\n",
       "      <td>game-01</td>\n",
       "      <td>712453</td>\n",
       "      <td>0.0</td>\n",
       "      <td>0</td>\n",
       "    </tr>\n",
       "    <tr>\n",
       "      <th>2</th>\n",
       "      <td>2013-05-01</td>\n",
       "      <td>game-01</td>\n",
       "      <td>776853</td>\n",
       "      <td>0.0</td>\n",
       "      <td>0</td>\n",
       "    </tr>\n",
       "    <tr>\n",
       "      <th>3</th>\n",
       "      <td>2013-05-01</td>\n",
       "      <td>game-01</td>\n",
       "      <td>823486</td>\n",
       "      <td>0.0</td>\n",
       "      <td>0</td>\n",
       "    </tr>\n",
       "    <tr>\n",
       "      <th>4</th>\n",
       "      <td>2013-05-01</td>\n",
       "      <td>game-01</td>\n",
       "      <td>113600</td>\n",
       "      <td>0.0</td>\n",
       "      <td>0</td>\n",
       "    </tr>\n",
       "  </tbody>\n",
       "</table>\n",
       "</div>"
      ],
      "text/plain": [
       "     log_date app_name  user_id  payment  is_payment\n",
       "0  2013-05-01  game-01   608801      0.0           0\n",
       "1  2013-05-01  game-01   712453      0.0           0\n",
       "2  2013-05-01  game-01   776853      0.0           0\n",
       "3  2013-05-01  game-01   823486      0.0           0\n",
       "4  2013-05-01  game-01   113600      0.0           0"
      ]
     },
     "execution_count": 10,
     "metadata": {},
     "output_type": "execute_result"
    }
   ],
   "source": [
    "# 非課金のレコードの課金額に0を入れる\n",
    "dau2[\"payment\"] = np.where(dau2[\"payment\"].isnull(), 0, dau2[\"payment\"])\n",
    "dau2.head()"
   ]
  },
  {
   "cell_type": "markdown",
   "metadata": {
    "deletable": true,
    "editable": true
   },
   "source": [
    "### 月次で集計"
   ]
  },
  {
   "cell_type": "code",
   "execution_count": 11,
   "metadata": {
    "collapsed": false,
    "deletable": true,
    "editable": true
   },
   "outputs": [
    {
     "data": {
      "text/html": [
       "<div>\n",
       "<table border=\"1\" class=\"dataframe\">\n",
       "  <thead>\n",
       "    <tr style=\"text-align: right;\">\n",
       "      <th></th>\n",
       "      <th>log_month</th>\n",
       "      <th>user_id</th>\n",
       "      <th>payment</th>\n",
       "      <th>log_date</th>\n",
       "    </tr>\n",
       "  </thead>\n",
       "  <tbody>\n",
       "    <tr>\n",
       "      <th>0</th>\n",
       "      <td>2013-05</td>\n",
       "      <td>65</td>\n",
       "      <td>0.0</td>\n",
       "      <td>1</td>\n",
       "    </tr>\n",
       "    <tr>\n",
       "      <th>1</th>\n",
       "      <td>2013-05</td>\n",
       "      <td>115</td>\n",
       "      <td>0.0</td>\n",
       "      <td>1</td>\n",
       "    </tr>\n",
       "    <tr>\n",
       "      <th>2</th>\n",
       "      <td>2013-05</td>\n",
       "      <td>194</td>\n",
       "      <td>0.0</td>\n",
       "      <td>1</td>\n",
       "    </tr>\n",
       "    <tr>\n",
       "      <th>3</th>\n",
       "      <td>2013-05</td>\n",
       "      <td>426</td>\n",
       "      <td>0.0</td>\n",
       "      <td>4</td>\n",
       "    </tr>\n",
       "    <tr>\n",
       "      <th>4</th>\n",
       "      <td>2013-05</td>\n",
       "      <td>539</td>\n",
       "      <td>0.0</td>\n",
       "      <td>1</td>\n",
       "    </tr>\n",
       "  </tbody>\n",
       "</table>\n",
       "</div>"
      ],
      "text/plain": [
       "  log_month  user_id  payment  log_date\n",
       "0   2013-05       65      0.0         1\n",
       "1   2013-05      115      0.0         1\n",
       "2   2013-05      194      0.0         1\n",
       "3   2013-05      426      0.0         4\n",
       "4   2013-05      539      0.0         1"
      ]
     },
     "execution_count": 11,
     "metadata": {},
     "output_type": "execute_result"
    }
   ],
   "source": [
    "# 月のカラムを作成\n",
    "dau2[\"log_month\"] = dau2[\"log_date\"].str.slice(0, 7)\n",
    "\n",
    "# 月次集計\n",
    "mau = dau2.groupby([\"log_month\", \"user_id\"]).agg({\"payment\": \"sum\", \"log_date\": \"count\"}).reset_index()\n",
    "mau.columns = [\"log_month\", \"user_id\", \"payment\", \"log_date\"]\n",
    "mau.head()"
   ]
  },
  {
   "cell_type": "markdown",
   "metadata": {
    "deletable": true,
    "editable": true
   },
   "source": [
    "### ランキング帯の決定"
   ]
  },
  {
   "cell_type": "code",
   "execution_count": 12,
   "metadata": {
    "collapsed": false,
    "deletable": true,
    "editable": true
   },
   "outputs": [
    {
     "data": {
      "text/html": [
       "<div>\n",
       "<table border=\"1\" class=\"dataframe\">\n",
       "  <thead>\n",
       "    <tr style=\"text-align: right;\">\n",
       "      <th></th>\n",
       "      <th>user_id</th>\n",
       "    </tr>\n",
       "    <tr>\n",
       "      <th>cluster</th>\n",
       "      <th></th>\n",
       "    </tr>\n",
       "  </thead>\n",
       "  <tbody>\n",
       "    <tr>\n",
       "      <th>0</th>\n",
       "      <td>2096</td>\n",
       "    </tr>\n",
       "    <tr>\n",
       "      <th>1</th>\n",
       "      <td>479</td>\n",
       "    </tr>\n",
       "    <tr>\n",
       "      <th>2</th>\n",
       "      <td>78</td>\n",
       "    </tr>\n",
       "  </tbody>\n",
       "</table>\n",
       "</div>"
      ],
      "text/plain": [
       "         user_id\n",
       "cluster         \n",
       "0           2096\n",
       "1            479\n",
       "2             78"
      ]
     },
     "execution_count": 12,
     "metadata": {},
     "output_type": "execute_result"
    }
   ],
   "source": [
    "# A47がランキングポイント\n",
    "user_action[\"cluster\"] = KMeans(n_clusters = 3, random_state = 0).fit_predict(user_action[[\"A47\"]])\n",
    "# 各クラスタの人数\n",
    "user_action[[\"user_id\", \"cluster\"]].groupby(\"cluster\").count()"
   ]
  },
  {
   "cell_type": "markdown",
   "metadata": {
    "deletable": true,
    "editable": true
   },
   "source": [
    "### ランキングポイントの分布"
   ]
  },
  {
   "cell_type": "code",
   "execution_count": 13,
   "metadata": {
    "collapsed": false,
    "deletable": true,
    "editable": true
   },
   "outputs": [
    {
     "data": {
      "image/png": "[encoded data removed]",
      "text/plain": [
       "<matplotlib.figure.Figure at 0x1167e06a0>"
      ]
     },
     "metadata": {},
     "output_type": "display_data"
    }
   ],
   "source": [
    "# ランキングポイントの分布\n",
    "user_action2 = user_action.sort_values(by = \"A47\", ascending = False).reset_index().drop(\"index\", axis = 1)\n",
    "user_action2[\"index\"]  = user_action2.index\n",
    "user_action2[[\"index\", \"A47\", \"cluster\"]].groupby([\"index\", \"cluster\"]).max().unstack().plot()\n",
    "plt.xlabel(\"user\")\n",
    "plt.ylabel(\"Ranking point\")\n",
    "plt.xlim(-100, 3000)\n",
    "plt.show()"
   ]
  },
  {
   "cell_type": "markdown",
   "metadata": {
    "deletable": true,
    "editable": true
   },
   "source": [
    "### ランキング上位に絞る"
   ]
  },
  {
   "cell_type": "code",
   "execution_count": 14,
   "metadata": {
    "collapsed": false,
    "deletable": true,
    "editable": true
   },
   "outputs": [
    {
     "data": {
      "text/html": [
       "<div>\n",
       "<table border=\"1\" class=\"dataframe\">\n",
       "  <thead>\n",
       "    <tr style=\"text-align: right;\">\n",
       "      <th></th>\n",
       "      <th>log_date</th>\n",
       "      <th>app_name</th>\n",
       "      <th>user_id</th>\n",
       "      <th>A1</th>\n",
       "      <th>A2</th>\n",
       "      <th>A3</th>\n",
       "      <th>A4</th>\n",
       "      <th>A5</th>\n",
       "      <th>A6</th>\n",
       "      <th>A7</th>\n",
       "      <th>...</th>\n",
       "      <th>A45</th>\n",
       "      <th>A46</th>\n",
       "      <th>A47</th>\n",
       "      <th>A48</th>\n",
       "      <th>A49</th>\n",
       "      <th>A50</th>\n",
       "      <th>A51</th>\n",
       "      <th>A52</th>\n",
       "      <th>A53</th>\n",
       "      <th>A54</th>\n",
       "    </tr>\n",
       "  </thead>\n",
       "  <tbody>\n",
       "    <tr>\n",
       "      <th>0</th>\n",
       "      <td>2013-10-31</td>\n",
       "      <td>game-01</td>\n",
       "      <td>484271</td>\n",
       "      <td>0</td>\n",
       "      <td>0</td>\n",
       "      <td>0</td>\n",
       "      <td>0</td>\n",
       "      <td>5</td>\n",
       "      <td>2</td>\n",
       "      <td>75</td>\n",
       "      <td>...</td>\n",
       "      <td>35</td>\n",
       "      <td>36</td>\n",
       "      <td>521032</td>\n",
       "      <td>21</td>\n",
       "      <td>41</td>\n",
       "      <td>26</td>\n",
       "      <td>3</td>\n",
       "      <td>0</td>\n",
       "      <td>0.0</td>\n",
       "      <td>209</td>\n",
       "    </tr>\n",
       "    <tr>\n",
       "      <th>1</th>\n",
       "      <td>2013-10-31</td>\n",
       "      <td>game-01</td>\n",
       "      <td>401902</td>\n",
       "      <td>0</td>\n",
       "      <td>0</td>\n",
       "      <td>0</td>\n",
       "      <td>0</td>\n",
       "      <td>7</td>\n",
       "      <td>0</td>\n",
       "      <td>0</td>\n",
       "      <td>...</td>\n",
       "      <td>22</td>\n",
       "      <td>22</td>\n",
       "      <td>505691</td>\n",
       "      <td>23</td>\n",
       "      <td>26</td>\n",
       "      <td>3</td>\n",
       "      <td>0</td>\n",
       "      <td>0</td>\n",
       "      <td>0.0</td>\n",
       "      <td>85</td>\n",
       "    </tr>\n",
       "    <tr>\n",
       "      <th>2</th>\n",
       "      <td>2013-10-31</td>\n",
       "      <td>game-01</td>\n",
       "      <td>150752</td>\n",
       "      <td>0</td>\n",
       "      <td>0</td>\n",
       "      <td>0</td>\n",
       "      <td>0</td>\n",
       "      <td>11</td>\n",
       "      <td>1</td>\n",
       "      <td>60</td>\n",
       "      <td>...</td>\n",
       "      <td>15</td>\n",
       "      <td>15</td>\n",
       "      <td>380340</td>\n",
       "      <td>35</td>\n",
       "      <td>19</td>\n",
       "      <td>3</td>\n",
       "      <td>1</td>\n",
       "      <td>1</td>\n",
       "      <td>1.0</td>\n",
       "      <td>52</td>\n",
       "    </tr>\n",
       "    <tr>\n",
       "      <th>3</th>\n",
       "      <td>2013-10-31</td>\n",
       "      <td>game-01</td>\n",
       "      <td>196570</td>\n",
       "      <td>0</td>\n",
       "      <td>0</td>\n",
       "      <td>0</td>\n",
       "      <td>0</td>\n",
       "      <td>12</td>\n",
       "      <td>0</td>\n",
       "      <td>0</td>\n",
       "      <td>...</td>\n",
       "      <td>19</td>\n",
       "      <td>29</td>\n",
       "      <td>344958</td>\n",
       "      <td>43</td>\n",
       "      <td>47</td>\n",
       "      <td>42</td>\n",
       "      <td>0</td>\n",
       "      <td>0</td>\n",
       "      <td>0.0</td>\n",
       "      <td>305</td>\n",
       "    </tr>\n",
       "    <tr>\n",
       "      <th>4</th>\n",
       "      <td>2013-10-31</td>\n",
       "      <td>game-01</td>\n",
       "      <td>705026</td>\n",
       "      <td>0</td>\n",
       "      <td>0</td>\n",
       "      <td>0</td>\n",
       "      <td>0</td>\n",
       "      <td>8</td>\n",
       "      <td>0</td>\n",
       "      <td>257</td>\n",
       "      <td>...</td>\n",
       "      <td>41</td>\n",
       "      <td>41</td>\n",
       "      <td>316022</td>\n",
       "      <td>54</td>\n",
       "      <td>27</td>\n",
       "      <td>12</td>\n",
       "      <td>3</td>\n",
       "      <td>0</td>\n",
       "      <td>0.0</td>\n",
       "      <td>318</td>\n",
       "    </tr>\n",
       "  </tbody>\n",
       "</table>\n",
       "<p>5 rows × 57 columns</p>\n",
       "</div>"
      ],
      "text/plain": [
       "     log_date app_name  user_id  A1  A2  A3  A4  A5  A6   A7 ...   A45  A46  \\\n",
       "0  2013-10-31  game-01   484271   0   0   0   0   5   2   75 ...    35   36   \n",
       "1  2013-10-31  game-01   401902   0   0   0   0   7   0    0 ...    22   22   \n",
       "2  2013-10-31  game-01   150752   0   0   0   0  11   1   60 ...    15   15   \n",
       "3  2013-10-31  game-01   196570   0   0   0   0  12   0    0 ...    19   29   \n",
       "4  2013-10-31  game-01   705026   0   0   0   0   8   0  257 ...    41   41   \n",
       "\n",
       "      A47  A48  A49  A50  A51  A52  A53  A54  \n",
       "0  521032   21   41   26    3    0  0.0  209  \n",
       "1  505691   23   26    3    0    0  0.0   85  \n",
       "2  380340   35   19    3    1    1  1.0   52  \n",
       "3  344958   43   47   42    0    0  0.0  305  \n",
       "4  316022   54   27   12    3    0  0.0  318  \n",
       "\n",
       "[5 rows x 57 columns]"
      ]
     },
     "execution_count": 14,
     "metadata": {},
     "output_type": "execute_result"
    }
   ],
   "source": [
    "user_action_h = user_action2.query(\"cluster >= 1\").drop([\"cluster\", \"index\"], axis = 1)\n",
    "user_action_h.head()"
   ]
  },
  {
   "cell_type": "code",
   "execution_count": null,
   "metadata": {
    "collapsed": true,
    "deletable": true,
    "editable": true
   },
   "outputs": [],
   "source": []
  }
 ],
 "metadata": {
  "kernelspec": {
   "display_name": "Python 3",
   "language": "python",
   "name": "python3"
  },
  "language_info": {
   "codemirror_mode": {
    "name": "ipython",
    "version": 3
   },
   "file_extension": ".py",
   "mimetype": "text/x-python",
   "name": "python",
   "nbconvert_exporter": "python",
   "pygments_lexer": "ipython3",
   "version": "3.6.5"
  }
 },
 "nbformat": 4,
 "nbformat_minor": 2
}
